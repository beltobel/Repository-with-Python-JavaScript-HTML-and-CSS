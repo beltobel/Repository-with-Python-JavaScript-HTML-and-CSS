{
 "cells": [
  {
   "cell_type": "code",
   "execution_count": 1,
   "metadata": {},
   "outputs": [],
   "source": [
    "import sys\n",
    "import glob\n",
    "import numpy\n",
    "import string\n",
    "from matplotlib import pyplot\n",
    "from nltk.corpus import stopwords\n",
    "import pandas as pd\n",
    "from string import punctuation\n",
    "import matplotlib.pyplot as plt\n",
    "import l3\n",
    "from sklearn.cluster import KMeans "
   ]
  },
  {
   "cell_type": "code",
   "execution_count": 2,
   "metadata": {},
   "outputs": [],
   "source": [
    "# Document input\n",
    "# Structures holding documents and terms\n",
    "document_list = []\t# will contain a list of documents, stored as dictionaries.\n",
    "\t\t\t\t# index in this list is used as ID of document\n",
    "document_ids = {}\t# reverse search: from document name to corresponding ID\n",
    "token_list = []\t\t# List of token strings; index is token's ID\n",
    "token_ids = {}\t\t# Reverse dictionary: from token string to ID\n"
   ]
  },
  {
   "cell_type": "code",
   "execution_count": 3,
   "metadata": {},
   "outputs": [],
   "source": [
    "# Repeat for every document in processed_pages\n",
    "for filename in glob.glob('corpusme/*'):\n",
    "    # Read the document as list of blank-separated tokens\n",
    "    f = open (filename, 'r', encoding = 'utf-8' ) #encoding = 'utf-8'\n",
    "    tokens = f.read() \n",
    "    #1. tokenization and normalization\n",
    "        #converting each words to lower case\n",
    "    tokens = tokens.lower() \n",
    "        #separeting each word using space b/n them\n",
    "    tokens = tokens.split()\n",
    "        #removing each punctuation and blank space from tokens\n",
    "    table = str.maketrans(' ', ' ', punctuation)\n",
    "    tokens = [w.translate(table) for w in tokens] \n",
    "    \n",
    "        #remove remaining tokens that are not alphabetic \n",
    "    tokens =[word for word in tokens if word.isalpha()]\n",
    "    \n",
    "    \n",
    "        #removing words that have 1 and/or 2 charectars \n",
    "    tokens =[word for word in tokens if len(word)>2 ]\n",
    "    \n",
    "    #2.stop word removal\n",
    "    stop_words = set(stopwords.words('oromo'))\n",
    "    tokens = [w for w in tokens if not w in stop_words]\n",
    "    \n",
    "    f.close()\n",
    "\n",
    "   #3. stemming\n",
    "\n",
    " \n",
    "\n",
    "    \n",
    "    # Get the document name as last part of path\n",
    "    article_name = filename[filename.rfind('/')+1:]\n",
    "    #sys.stderr.write (' %s\\n' % article_name)\n",
    "    #print(' %s\\n' % article_name)\n",
    "    # Document's ID is the length of the current document list\n",
    "    doc_id = len(document_list)\n",
    "    # Insert ID in inverse list\n",
    "    document_ids[article_name] = doc_id\n",
    "    # Populate token structure for all tokens in document\n",
    "    for t in tokens:\n",
    "        # Only if token hasn't been seen yet\n",
    "        if t not in token_ids:\n",
    "            # Token's ID is token list length\n",
    "            token_ids[t] = len(token_list)\n",
    "            # Append token to list\n",
    "            token_list.append(t)\n",
    "    # Transform the document's token list into the corresponding ID list\n",
    "    tids = [token_ids[t] for t in tokens]\n",
    "    # Store the document as both its token ID list and the corresponding set\n",
    "    # Also remember the document's name\n",
    "    document_list.append({\n",
    "        'name': article_name,\n",
    "        'tokens': tids,\n",
    "        'set': set(tids)\n",
    "    })\n"
   ]
  },
  {
   "cell_type": "code",
   "execution_count": 4,
   "metadata": {},
   "outputs": [
    {
     "name": "stdout",
     "output_type": "stream",
     "text": [
      "\n",
      "\tLoading required data...\n"
     ]
    }
   ],
   "source": [
    "    tok = open('token_list.txt', 'w', encoding ='utf-8')\n",
    "    tok.write(str(token_list))\n",
    "    tok.close()\n",
    "    l3.anal_file('om','token_list.txt', 'stemmed.txt' , citation =True, nbest =1)\n",
    "    fs = open('stemmed.txt', 'r', encoding = 'utf-8')\n",
    "    stem_list = fs.read()\n",
    "    noneed1 = 'VBZ'\n",
    "    noneed2 ='NN'\n",
    "    noneed3 ='VV'\n",
    "\n",
    "    stem_list = [c for c in stem_list if c not in noneed1]\n",
    "    stem_list = [c for c in stem_list if c not in noneed2]\n",
    "    stem_list = [c for c in stem_list if c not in noneed3]\n",
    "    stem_list =[word for word in stem_list if not word.isdigit()]\n",
    "    stem_list = \"\". join([c for c in stem_list if c not in string.punctuation])\n",
    "    stem = stem_list.split()"
   ]
  },
  {
   "cell_type": "code",
   "execution_count": 5,
   "metadata": {},
   "outputs": [
    {
     "name": "stderr",
     "output_type": "stream",
     "text": [
      "243 documents, 14683 tokens\n"
     ]
    }
   ],
   "source": [
    "# At the end of the loop, we have the total number of documents and tokens\n",
    "number_of_documents = len(document_list)\n",
    "number_of_tokens = len(stem)\n",
    "sys.stderr.write ('%d documents, %d tokens\\n' % (number_of_documents, number_of_tokens))\n"
   ]
  },
  {
   "cell_type": "code",
   "execution_count": 6,
   "metadata": {},
   "outputs": [
    {
     "name": "stderr",
     "output_type": "stream",
     "text": [
      "Building the TF matrix and counting term occurrencies\n"
     ]
    }
   ],
   "source": [
    "##############################################\n",
    "# Building the TF-IDF matrix\n",
    "sys.stderr.write ('Building the TF matrix and counting term occurrencies\\n')\n",
    "# For each term, count how many documents contain it (to compute IDF)\n",
    "token_count = [0] * number_of_tokens  # number of occurrences of word in document\n",
    "# Alloc the |T|x|D| TFIDF matrix. No need to initialize its entries\n",
    "#TF = number of occurrences of word in document/total word in document\n",
    "TF = numpy.empty((number_of_tokens,number_of_documents), dtype=float) \n",
    "# Scan the document list\n",
    "for i,doc in enumerate(document_list):\n",
    "\t# For each term, count the number of occurrences within the document\n",
    "\t# Initialize with zeros\n",
    "\tn_dt = [0] * number_of_tokens\n",
    "\t# For all token IDs in document\n",
    "\tfor tid in doc['tokens']:\n",
    "\t\t# if first occurrence, increase global count for IDF\n",
    "\t\tif n_dt[tid] == 0:\n",
    "\t\t\ttoken_count[tid] += 1\n",
    "\t\t# increase local count\n",
    "\t\tn_dt[tid] += 1\n",
    "\t# Normalize local count by document length obtaining TF vector;\n",
    "\t# store it as the i-th column of the TFIDF matrix.\n",
    "\tTF[:,i] = numpy.array(n_dt, dtype=float) / len(doc['tokens'])"
   ]
  },
  {
   "cell_type": "code",
   "execution_count": 7,
   "metadata": {
    "scrolled": true
   },
   "outputs": [
    {
     "name": "stderr",
     "output_type": "stream",
     "text": [
      "Computing the IDF vector\n"
     ]
    }
   ],
   "source": [
    "# Transform the global count into IDF\n",
    "sys.stderr.write ('Computing the IDF vector\\n')\n",
    "# IDF = log(number of total document/number of document contains that word)\n",
    "IDF = numpy.log10(number_of_documents / numpy.array(token_count, dtype=float))\n",
    "\n",
    "# Apply IDF multipliers to the rows of the TF matrix (left-multiply by diagonal IDF values)\n",
    "#sys.stderr.write ('Multiplying IDF coefficients into the TF matrix...\\n')\n",
    "# First method: explicitly multiply each row by the appropriate IDF coefficient\n",
    "#for row,coeff in zip(TF,IDF):\n",
    "#\trow *= coeff\n",
    "# Second method: beware, numpy.diag(IDF)\n",
    "# is a VERY large matrix, and should be avoided if the dictionary contains\n",
    "# more than a few tokens\n",
    "TFIDF = numpy.diag(IDF).dot(TF)"
   ]
  },
  {
   "cell_type": "code",
   "execution_count": 8,
   "metadata": {},
   "outputs": [],
   "source": [
    "TFIDFM = pd.DataFrame(TFIDF)\n"
   ]
  },
  {
   "cell_type": "code",
   "execution_count": 9,
   "metadata": {},
   "outputs": [],
   "source": [
    "#TFIDFM"
   ]
  },
  {
   "cell_type": "code",
   "execution_count": 10,
   "metadata": {},
   "outputs": [],
   "source": [
    "L_k, S_k, R_k = numpy.linalg.svd (TFIDFM, full_matrices =False)\n",
    "\n",
    "\n",
    "r1 = 10\n",
    "L_r1 = L_k[:, :r1]\n",
    "S_r1 = numpy.diag(S_k)[:r1, :r1]\n",
    "VT_r1 = R_k[:r1, :]"
   ]
  },
  {
   "cell_type": "code",
   "execution_count": 11,
   "metadata": {},
   "outputs": [],
   "source": [
    "lowRankX = numpy.dot(L_r1, numpy.dot(S_r1, VT_r1))\n",
    "lowRankX = pd.DataFrame(lowRankX)\n",
    "lowRankX =lowRankX.T"
   ]
  },
  {
   "cell_type": "code",
   "execution_count": 12,
   "metadata": {},
   "outputs": [],
   "source": [
    "#lowRankX"
   ]
  },
  {
   "cell_type": "code",
   "execution_count": 28,
   "metadata": {},
   "outputs": [
    {
     "name": "stdout",
     "output_type": "stream",
     "text": [
      "Initialization complete\n",
      "start iteration\n",
      "done sorting\n",
      "end inner loop\n",
      "Iteration 0, inertia 0.187466339983556\n",
      "start iteration\n",
      "done sorting\n",
      "end inner loop\n",
      "Iteration 1, inertia 0.1857799228925421\n",
      "start iteration\n",
      "done sorting\n",
      "end inner loop\n",
      "Iteration 2, inertia 0.183033717657373\n",
      "start iteration\n",
      "done sorting\n",
      "end inner loop\n",
      "Iteration 3, inertia 0.17138810106396787\n",
      "start iteration\n",
      "done sorting\n",
      "end inner loop\n",
      "Iteration 4, inertia 0.1655317370567456\n",
      "start iteration\n",
      "done sorting\n",
      "end inner loop\n",
      "Iteration 5, inertia 0.16335862734309278\n",
      "start iteration\n",
      "done sorting\n",
      "end inner loop\n",
      "Iteration 6, inertia 0.16207749326540094\n",
      "start iteration\n",
      "done sorting\n",
      "end inner loop\n",
      "Iteration 7, inertia 0.16095048347970017\n",
      "start iteration\n",
      "done sorting\n",
      "end inner loop\n",
      "Iteration 8, inertia 0.16095048347970017\n",
      "center shift 0.000000e+00 within tolerance 1.319528e-11\n"
     ]
    }
   ],
   "source": [
    "n_clusters = 8\n",
    "#kmeans = KMeans(n_clusters )\n",
    "#kmeans = kmeans.fit(lowRankX)\n",
    "kmeans = KMeans(n_clusters, max_iter=100, n_init=1, verbose=1)\n",
    "#kmeans = KMeans(n_clusters , init = 'k-means++', max_iter=300, n_init=10,tol = 0.0001, precompute_distances =True, verbose=0, random_state =None, copy_x=True, n_jobs=1)\n",
    "cluster = kmeans.fit_predict(lowRankX) #\n",
    "label = kmeans.labels_"
   ]
  },
  {
   "cell_type": "code",
   "execution_count": 29,
   "metadata": {},
   "outputs": [
    {
     "data": {
      "text/plain": [
       "0.16095048347970017"
      ]
     },
     "execution_count": 29,
     "metadata": {},
     "output_type": "execute_result"
    }
   ],
   "source": [
    "kmeans.inertia_"
   ]
  },
  {
   "cell_type": "code",
   "execution_count": 15,
   "metadata": {},
   "outputs": [],
   "source": [
    "wcss =[]\n",
    "for i in range(1,12):\n",
    "    kmeans = KMeans(i)\n",
    "    kmeans.fit(lowRankX)\n",
    "    wcss_iter = kmeans.inertia_\n",
    "    wcss.append(wcss_iter)"
   ]
  },
  {
   "cell_type": "code",
   "execution_count": 16,
   "metadata": {},
   "outputs": [
    {
     "data": {
      "text/plain": [
       "Text(0, 0.5, 'within cluster sum of square')"
      ]
     },
     "execution_count": 16,
     "metadata": {},
     "output_type": "execute_result"
    },
    {
     "data": {
      "image/png": "[encoded data removed]",
      "text/plain": [
       "<Figure size 432x288 with 1 Axes>"
      ]
     },
     "metadata": {
      "needs_background": "light"
     },
     "output_type": "display_data"
    }
   ],
   "source": [
    "number_clusters = range(1,12)\n",
    "plt.plot(number_clusters, wcss)\n",
    "plt.title('the Elbow method')\n",
    "plt.xlabel('number of clusters')\n",
    "plt.ylabel('within cluster sum of square')"
   ]
  },
  {
   "cell_type": "code",
   "execution_count": 17,
   "metadata": {},
   "outputs": [],
   "source": [
    "#label"
   ]
  },
  {
   "cell_type": "code",
   "execution_count": 30,
   "metadata": {},
   "outputs": [],
   "source": [
    "centroid = kmeans.cluster_centers_             #centroid of the clusters\n",
    "sorted_centroid = centroid.argsort()[:, ::-1]   #sorting centroid\n",
    "centroid = pd.DataFrame(centroid)             \n",
    "#centroid"
   ]
  },
  {
   "cell_type": "code",
   "execution_count": 40,
   "metadata": {},
   "outputs": [
    {
     "name": "stdout",
     "output_type": "stream",
     "text": [
      "please enter query: barnoota\n"
     ]
    }
   ],
   "source": [
    "query = input('please enter query: ')"
   ]
  },
  {
   "cell_type": "code",
   "execution_count": 41,
   "metadata": {},
   "outputs": [
    {
     "name": "stderr",
     "output_type": "stream",
     "text": [
      "Computing query similarities...\n"
     ]
    }
   ],
   "source": [
    "# Cosine similarity to a query\n",
    "\n",
    "sys.stderr.write ('Computing query similarities...\\n')\n",
    "\n",
    "#1. tokenization and normalization\n",
    "        #converting each words to lower case\n",
    "    \n",
    "#query = 'abbaa gadaa aanee'\n",
    "query = query.lower()\n",
    "# Split the query into its blank-separated tokens\n",
    "q_split = query.split()\n",
    "q_split = [w.translate(table) for w in q_split]\n",
    "        #remove remaining tokens that are not alphabetic \n",
    "q_split =[word for word in q_split if word.isalpha()]\n",
    "q_split =[word for word in q_split if not word.isdigit()]\n",
    "        #removing words that have 1 and/or 2 charectars \n",
    "q_split =[word for word in q_split if len(word)>2 ]\n",
    "\n",
    "    #2.stop word removal\n",
    "stop_words = set(stopwords.words('oromo'))\n",
    "q_split = [w for w in q_split if not w in stop_words]\n",
    "\n",
    "#stemming\n",
    "\n",
    "\n",
    "q_tokens = set()\n",
    "\n",
    "# Compute the occurrences of each token in the query\n",
    "q_count = [0] * number_of_tokens\n",
    "q_length = 0\n",
    "for token in q_split:\n",
    "\ttry:\n",
    "\t\t# Try updating the token's count by finding its ID\n",
    "\t\tt_id = token_ids[token]\n",
    "\t\tq_count[t_id] += 1\n",
    "\t\tq_length += 1\n",
    "\t\tq_tokens.add(t_id)\n",
    "\texcept:\n",
    "\t\t# If a query token doesn't have an ID, discard it\n",
    "\t\tpass"
   ]
  },
  {
   "cell_type": "code",
   "execution_count": 42,
   "metadata": {},
   "outputs": [
    {
     "data": {
      "text/plain": [
       "['barnoota']"
      ]
     },
     "execution_count": 42,
     "metadata": {},
     "output_type": "execute_result"
    }
   ],
   "source": [
    "q_split"
   ]
  },
  {
   "cell_type": "code",
   "execution_count": 43,
   "metadata": {},
   "outputs": [],
   "source": [
    "    tok = open('q_split.txt', 'w', encoding ='utf-8')\n",
    "    tok.write(str(q_split))\n",
    "    tok.close()\n",
    "    l3.anal_file('om','q_split.txt', 'stemm_q.txt' , citation =True, nbest =1)\n",
    "    fq = open('stemm_q.txt', 'r', encoding = 'utf-8')\n",
    "    qr_list = fq.read()\n",
    "    noneed1 = 'VBZ'\n",
    "    noneed2 ='NN'\n",
    "    noneed3 ='VV'\n",
    "\n",
    "    qr_list = [c for c in qr_list if c not in noneed1]\n",
    "    qr_list = [c for c in qr_list if c not in noneed2]\n",
    "    qr_list = [c for c in qr_list if c not in noneed3]\n",
    "    qr_list =[word for word in qr_list if not word.isdigit()]\n",
    "    qr_list = \"\". join([c for c in qr_list if c not in string.punctuation])\n",
    "    qr_list = qr_list.split()"
   ]
  },
  {
   "cell_type": "code",
   "execution_count": 44,
   "metadata": {},
   "outputs": [
    {
     "data": {
      "text/plain": [
       "['barnoota']"
      ]
     },
     "execution_count": 44,
     "metadata": {},
     "output_type": "execute_result"
    }
   ],
   "source": [
    "qr_list"
   ]
  },
  {
   "cell_type": "code",
   "execution_count": 45,
   "metadata": {},
   "outputs": [],
   "source": [
    "# Normalize by query length and multiply (elementwise) by IDF\n",
    "# to get TF-IDF representation of query\n",
    "q_TFIDF = (numpy.array(q_count,dtype=float) / q_length) * IDF\n",
    "\n",
    "# In order to compute cosine similarity, we need to normalize each\n",
    "# document (TFIDF column) by its length (2-norm)\n",
    "#TFIDF_norm = TFIDFM.dot(numpy.diag([1/numpy.linalg.norm(col) for col in TFIDF.T]))\n",
    "\n",
    "# Same normalization applies to the query vector\n",
    "#q_TFIDF_norm = q_TFIDF / numpy.linalg.norm(q_TFIDF)\n",
    "# Array of cosine similarities (dot products of normalized document and query vectors)\n",
    "# is obtained by matrix-vector multiplication.\n",
    "#sim = TFIDF_norm.T.dot(q_TFIDF_norm)\n",
    "sim = TFIDFM.T.dot(q_TFIDF)"
   ]
  },
  {
   "cell_type": "code",
   "execution_count": 46,
   "metadata": {},
   "outputs": [
    {
     "data": {
      "text/plain": [
       "array([0., 0., 0., ..., 0., 0., 0.])"
      ]
     },
     "execution_count": 46,
     "metadata": {},
     "output_type": "execute_result"
    }
   ],
   "source": [
    "q_TFIDF = q_TFIDF.T\n",
    "q_TFIDF"
   ]
  },
  {
   "cell_type": "code",
   "execution_count": 47,
   "metadata": {},
   "outputs": [],
   "source": [
    "c_qsim =centroid.dot(q_TFIDF)                 #calculating similarity b/n cluster centroid and query vector\n",
    "#c_qsim = pd.DataFrame(c_qsim)\n",
    "#c_qsim\n",
    "my_dict =c_qsim.to_dict()  \n",
    "#my_dict                                # max similarity b/n centroid and query vector\n",
    "\n",
    "def get_key(val): \n",
    "    for key, value in my_dict.items(): \n",
    "         if val == value: \n",
    "             return key \n",
    "        \n",
    "w = get_key(c_qsim.max())             #view cluster with max centroid similarity with query\n",
    "                                      #c_qsim.max() is used to select max value of similarity b/n centroid and query\n",
    "                                      # w is cluster with max similarity b/n query and centroid\n",
    "              \n",
    "doc_dict = {i: numpy.where(label ==i)[0] for i in range(kmeans.n_clusters)}\n",
    "doc_dict_key = list(doc_dict.keys())\n",
    "doc_dict_val = list(doc_dict.values()) "
   ]
  },
  {
   "cell_type": "code",
   "execution_count": 48,
   "metadata": {},
   "outputs": [
    {
     "name": "stdout",
     "output_type": "stream",
     "text": [
      "[array([  8,  15,  30,  39,  40,  49,  57,  66,  79,  90,  98, 113, 125,\n",
      "       137, 145, 154, 169, 176, 195, 201, 202, 204, 205, 206, 208, 237],\n",
      "      dtype=int64)]\n"
     ]
    }
   ],
   "source": [
    "doc_list = []\n",
    "for key in doc_dict.keys():\n",
    "    if  w == key:\n",
    "        temp = doc_dict[w]\n",
    "        doc_list.append(temp)\n",
    "        #print (list(doc_dict[w]))\n",
    "        print(doc_list)\n"
   ]
  },
  {
   "cell_type": "code",
   "execution_count": 127,
   "metadata": {},
   "outputs": [
    {
     "name": "stdout",
     "output_type": "stream",
     "text": [
      "doc: [236]\n"
     ]
    }
   ],
   "source": [
    "doc_list = []\n",
    "for key in doc_dict.keys():\n",
    "    if  w == key:\n",
    "        print ( 'doc:', list(doc_dict[w]))\n",
    "      "
   ]
  },
  {
   "cell_type": "code",
   "execution_count": null,
   "metadata": {},
   "outputs": [],
   "source": []
  },
  {
   "cell_type": "code",
   "execution_count": null,
   "metadata": {},
   "outputs": [],
   "source": []
  },
  {
   "cell_type": "code",
   "execution_count": null,
   "metadata": {},
   "outputs": [],
   "source": []
  }
 ],
 "metadata": {
  "kernelspec": {
   "display_name": "Python 3",
   "language": "python",
   "name": "python3"
  },
  "language_info": {
   "codemirror_mode": {
    "name": "ipython",
    "version": 3
   },
   "file_extension": ".py",
   "mimetype": "text/x-python",
   "name": "python",
   "nbconvert_exporter": "python",
   "pygments_lexer": "ipython3",
   "version": "3.7.1"
  }
 },
 "nbformat": 4,
 "nbformat_minor": 2
}
